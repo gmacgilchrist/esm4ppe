{
 "cells": [
  {
   "cell_type": "code",
   "execution_count": 1,
   "id": "c29edef2-2828-4bae-8f05-0f31107c31c9",
   "metadata": {},
   "outputs": [],
   "source": [
    "%load_ext autoreload\n",
    "%autoreload 2"
   ]
  },
  {
   "cell_type": "code",
   "execution_count": 2,
   "id": "9c8c9256-5e00-4821-8b70-97f24751de3c",
   "metadata": {},
   "outputs": [],
   "source": [
    "import esm4ppe\n",
    "import numpy as np\n",
    "import re\n",
    "import xarray as xr\n",
    "from dask.diagnostics import ProgressBar"
   ]
  },
  {
   "cell_type": "code",
   "execution_count": 13,
   "id": "081e0501-c63a-46d6-8f2d-0e6b78d81bb2",
   "metadata": {},
   "outputs": [
    {
     "name": "stdout",
     "output_type": "stream",
     "text": [
      "Opening static... static opened.\n",
      "Control present in zarr store... opening... control opened.\n"
     ]
    },
    {
     "data": {
      "text/plain": [
       "<esm4ppe.classes.esm4ppeObj at 0x2b4b0ad402b0>"
      ]
     },
     "execution_count": 13,
     "metadata": {},
     "output_type": "execute_result"
    }
   ],
   "source": [
    "eo = esm4ppe.esm4ppeObj('intpp','monthly').add_control(triggeropen=True)\n",
    "eo"
   ]
  },
  {
   "cell_type": "code",
   "execution_count": 14,
   "id": "701209b5-a7ec-4db6-99b3-9efac989507d",
   "metadata": {},
   "outputs": [],
   "source": [
    "eo = eo.regionalmean(masksname='LME',saveregionalmean=True,verbose=True)"
   ]
  },
  {
   "cell_type": "code",
   "execution_count": 15,
   "id": "9c13f473-610a-4da8-903a-3fb151bc48d3",
   "metadata": {},
   "outputs": [
    {
     "data": {
      "text/plain": [
       "[<matplotlib.lines.Line2D at 0x2b4b140df970>]"
      ]
     },
     "execution_count": 15,
     "metadata": {},
     "output_type": "execute_result"
    },
    {
     "data": {
      "image/png": "[encoded data removed]",
      "text/plain": [
       "<Figure size 640x480 with 1 Axes>"
      ]
     },
     "metadata": {},
     "output_type": "display_data"
    }
   ],
   "source": [
    "eo.control.sel(region='Baltic Sea')['intpp'].plot()"
   ]
  },
  {
   "cell_type": "code",
   "execution_count": 36,
   "id": "7df8dc1e-e701-4e2e-9196-2e3bcf0bd399",
   "metadata": {},
   "outputs": [],
   "source": [
    "def _load_LMEmask():\n",
    "    path = '/work/gam/LargeMarineEcos/derived_masks/LME66.ESM4.nc'\n",
    "    return xr.open_dataset(path)\n",
    "\n",
    "def _generate_basinmask(static,geolon='geolon',geolat='geolat'):\n",
    "    ''' Use static basin and geolon and geolat to generate mask booleans for a range of ocean regions.'''\n",
    "    masks = xr.Dataset()\n",
    "    flag_values = static['basin'].attrs['flag_values'].split(' ')\n",
    "    flag_meanings = static['basin'].attrs['flag_meanings'].split(' ')\n",
    "    latbounds = np.array([-60, -45, -20, 20, 45, 60])\n",
    "    latnames = ['SoP', 'SoSubP', 'SoSubT','T','NoSubT','NoSubP','NoP']\n",
    "    lonbounds = np.array([-214,-68,20])\n",
    "    lonnames = ['pacific','atlantic','indian']\n",
    "    lonbounds_arctic = np.array([-220 , -50])\n",
    "    lonnames_arctic = ['pacific','atlantic']\n",
    "\n",
    "    for b in flag_values:\n",
    "        bi = int(b)\n",
    "        name = flag_meanings[bi].split('_')[0]\n",
    "        masks[name]=(static['basin']==bi)\n",
    "        # Reverse boolean for land mask\n",
    "        if name=='global':\n",
    "            masks[name]=~masks[name]\n",
    "        # Split up by latitudes\n",
    "        for li,latname in enumerate(latnames):\n",
    "            if (li == 0):\n",
    "                newcond = (static[geolat] <= latbounds[li])\n",
    "            elif (li == len(latnames)-1):\n",
    "                newcond = (static[geolat] > latbounds[li-1])\n",
    "            else:\n",
    "                newcond = (static[geolat] > latbounds[li-1])  & (static[geolat] <= latbounds[li])\n",
    "            masks[name+'_'+latname] = (masks[name]) & (newcond)\n",
    "        # Split up Southern Ocean by longitude\n",
    "        if name=='southern':\n",
    "            for li,lonname in enumerate(lonnames):\n",
    "                if li==len(lonnames)-1: # Wrap\n",
    "                    newcond = (static[geolon]>lonbounds[li]) | (static[geolon]<lonbounds[0])\n",
    "                else:\n",
    "                    newcond = (static[geolon]>lonbounds[li]) & (static[geolon]<=lonbounds[li+1])\n",
    "                masks[name+'_'+lonname] = (masks[name]) & (newcond) \n",
    "        # Split up Arctic Ocean by longitude\n",
    "        if name=='arctic':\n",
    "            for li,lonname in enumerate(lonnames_arctic):\n",
    "                if li==len(lonnames_arctic)-1: # Wrap\n",
    "                    newcond = (static[geolon]>lonbounds_arctic[li]) | (static[geolon]<lonbounds_arctic[0])\n",
    "                else:\n",
    "                    newcond = (static[geolon]>lonbounds_arctic[li]) & (static[geolon]<=lonbounds_arctic[li+1])\n",
    "                masks[name+'_'+lonname] = (masks[name]) & (newcond)\n",
    "\n",
    "    # Now build global basin masks\n",
    "    for name in ['pacific','atlantic','indian']:\n",
    "        masks[name+'_global']=masks[name].copy()\n",
    "        r = re.compile(\".*\"+name)\n",
    "        bs = list(filter(r.match, list(masks.keys())))\n",
    "        for b in bs:\n",
    "            masks[name+'_global']+=masks[b].copy()\n",
    "            \n",
    "    # Now remove any empty masks\n",
    "    masksnow = masks.copy()\n",
    "    for name, mask in masks.items():\n",
    "        if ~mask.any():\n",
    "            masksnow.drop(name)\n",
    "            \n",
    "    return masksnow\n",
    "\n",
    "def get_masks(name,static):\n",
    "    if name=='LME':\n",
    "        return _load_LMEmask()\n",
    "    if name=='basin':\n",
    "        return _generate_basinmask(static)"
   ]
  },
  {
   "cell_type": "code",
   "execution_count": 37,
   "id": "b11814a6-3689-463a-b21b-5db259a15521",
   "metadata": {},
   "outputs": [],
   "source": [
    "def get_dimensionslesstime(da):\n",
    "    return [dim for dim in list(da.dims) if dim!='time']\n",
    "\n",
    "def _calc_regionalmean(da,mask,weights):\n",
    "    dims = get_dimensionslesstime(da)\n",
    "    return da.where(mask,drop=True).weighted(weights.fillna(0)).mean(dims)\n",
    "\n",
    "def calc_regionalmean(da,masks,weights,verbose=False):\n",
    "    ''' Calculate regional means for [da] based on [masks].\n",
    "    Return DataArray with \"region\" dimension corresponding to masknames.'''\n",
    "    coords_out = dict(da.coords)\n",
    "    dims = get_dimensionslesstime(da)\n",
    "    coords_out.pop(dims[0])\n",
    "    coords_out.pop(dims[1])\n",
    "    dims_orig = list(coords_out.keys())\n",
    "    coords_out['region']=list(masks.keys())\n",
    "    da_out = xr.DataArray(dims=coords_out.keys(),coords=coords_out,name=da.name)\n",
    "        \n",
    "    for name,mask in masks.items():\n",
    "        if verbose:\n",
    "            print('region: '+name)\n",
    "            with ProgressBar():\n",
    "                da_out.loc[{'region':name}] = _calc_regionalmean(da,mask,weights).transpose(*dims_orig)\n",
    "        else:\n",
    "            da_out.loc[{'region':name}] = _calc_regionalmean(da,mask,weights).transpose(*dims_orig)\n",
    "    return da_out"
   ]
  },
  {
   "cell_type": "code",
   "execution_count": 38,
   "id": "b2a3cb61-2912-494e-8afc-317d284a8f34",
   "metadata": {},
   "outputs": [],
   "source": [
    "masks = get_masks('LME',eo.static)"
   ]
  },
  {
   "cell_type": "code",
   "execution_count": 39,
   "id": "81a0be67-d10b-47d0-b922-a3fe5d59ca37",
   "metadata": {},
   "outputs": [
    {
     "name": "stdout",
     "output_type": "stream",
     "text": [
      "region: Baltic Sea\n",
      "[########################################] | 100% Completed | 4.18 ss\n",
      "region: Sea of Okhotsk\n",
      "[########################################] | 100% Completed | 3.81 sms\n",
      "region: North Sea\n",
      "[########################################] | 100% Completed | 3.70 sms\n",
      "region: Gulf of Alaska\n",
      "[########################################] | 100% Completed | 3.75 sms\n",
      "region: Labrador - Newfoundland\n",
      "[########################################] | 100% Completed | 4.03 sms\n",
      "region: Celtic-Biscay Shelf\n",
      "[########################################] | 100% Completed | 3.94 sms\n",
      "region: Sea of Japan\n",
      "[########################################] | 100% Completed | 3.61 sms\n",
      "region: Oyashio Current\n",
      "[########################################] | 100% Completed | 3.70 sms\n",
      "region: Scotian Shelf\n",
      "[########################################] | 100% Completed | 3.98 sms\n",
      "region: California Current\n",
      "[########################################] | 100% Completed | 3.76 sms\n",
      "region: Black Sea\n",
      "[########################################] | 100% Completed | 3.88 sms\n",
      "region: Northeast U.S. Continental Shelf\n",
      "[########################################] | 100% Completed | 3.90 sms\n",
      "region: Mediterranean Sea\n",
      "[########################################] | 100% Completed | 3.80 sms\n",
      "region: Iberian Coastal\n",
      "[########################################] | 100% Completed | 3.71 sms\n",
      "region: Kuroshio Current\n",
      "[########################################] | 100% Completed | 3.89 sms\n",
      "region: Yellow Sea\n",
      "[########################################] | 100% Completed | 4.07 sms\n",
      "region: Canary Current\n",
      "[########################################] | 100% Completed | 3.99 sms\n",
      "region: East China Sea\n",
      "[########################################] | 100% Completed | 3.97 sms\n",
      "region: Southeast U.S. Continental Shelf\n",
      "[########################################] | 100% Completed | 3.86 sms\n",
      "region: Gulf of California\n",
      "[########################################] | 100% Completed | 3.83 sms\n",
      "region: Gulf of Mexico\n",
      "[########################################] | 100% Completed | 3.88 sms\n",
      "region: Arabian Sea\n",
      "[########################################] | 100% Completed | 4.12 ss\n",
      "region: Red Sea\n",
      "[########################################] | 100% Completed | 3.94 sms\n",
      "region: Insular Pacific-Hawaiian\n",
      "[########################################] | 100% Completed | 3.99 ss\n",
      "region: Caribbean Sea\n",
      "[########################################] | 100% Completed | 3.82 sms\n",
      "region: South China Sea\n",
      "[########################################] | 100% Completed | 4.01 ss\n",
      "region: Bay of Bengal\n",
      "[########################################] | 100% Completed | 3.93 sms\n",
      "region: Pacific Central-American Coastal\n",
      "[########################################] | 100% Completed | 4.07 ss\n",
      "region: Sulu-Celebes Sea\n",
      "[########################################] | 100% Completed | 3.95 sms\n",
      "region: Gulf of Thailand\n",
      "[########################################] | 100% Completed | 3.98 sms\n",
      "region: North Brazil Shelf\n",
      "[########################################] | 100% Completed | 3.92 sms\n",
      "region: Guinea Current\n",
      "[########################################] | 100% Completed | 4.03 ss\n",
      "region: Somali Coastal Current\n",
      "[########################################] | 100% Completed | 4.09 sms\n",
      "region: Indonesian Sea\n",
      "[########################################] | 100% Completed | 4.21 ss\n",
      "region: East Brazil Shelf\n",
      "[########################################] | 100% Completed | 4.08 sms\n",
      "region: Humboldt Current\n",
      "[########################################] | 100% Completed | 3.97 sms\n",
      "region: Benguela Current\n",
      "[########################################] | 100% Completed | 3.99 sms\n",
      "region: North Australian Shelf\n",
      "[########################################] | 100% Completed | 3.99 sms\n",
      "region: Northeast Australian Shelf\n",
      "[########################################] | 100% Completed | 3.95 sms\n",
      "region: Agulhas Current\n",
      "[########################################] | 100% Completed | 3.96 sms\n",
      "region: Northwest Australian Shelf\n",
      "[########################################] | 100% Completed | 3.81 sms\n",
      "region: East Central Australian Shelf\n",
      "[########################################] | 100% Completed | 3.85 sms\n",
      "region: South Brazil Shelf\n",
      "[########################################] | 100% Completed | 3.73 sms\n",
      "region: New Zealand Shelf\n",
      "[########################################] | 100% Completed | 3.98 sms\n",
      "region: Patagonian Shelf\n",
      "[########################################] | 100% Completed | 3.81 sms\n",
      "region: Southeast Australian Shelf\n",
      "[########################################] | 100% Completed | 3.88 sms\n",
      "region: Antarctica\n",
      "[########################################] | 100% Completed | 4.10 ss\n",
      "region: South West Australian Shelf\n",
      "[########################################] | 100% Completed | 3.78 sms\n",
      "region: West Central Australian Shelf\n",
      "[########################################] | 100% Completed | 3.90 sms\n",
      "region: Faroe Plateau\n",
      "[########################################] | 100% Completed | 3.82 sms\n",
      "region: Iceland Shelf and Sea\n",
      "[########################################] | 100% Completed | 3.88 sms\n",
      "region: Greenland Sea\n",
      "[########################################] | 100% Completed | 4.09 ss\n",
      "region: Norwegian Sea\n",
      "[########################################] | 100% Completed | 3.73 sms\n",
      "region: Barents Sea\n",
      "[########################################] | 100% Completed | 4.31 ss\n",
      "region: Kara Sea\n",
      "[########################################] | 100% Completed | 4.16 sms\n",
      "region: Laptev Sea\n",
      "[########################################] | 100% Completed | 3.96 ss\n",
      "region: East Siberian Sea\n",
      "[########################################] | 100% Completed | 4.00 sms\n",
      "region: West Bering Sea\n",
      "[########################################] | 100% Completed | 3.93 sms\n",
      "region: Aleutian Islands\n",
      "[########################################] | 100% Completed | 3.96 sms\n",
      "region: East Bering Sea\n",
      "[########################################] | 100% Completed | 3.80 sms\n",
      "region: Canadian Eastern Arctic - West Greenland\n",
      "[########################################] | 100% Completed | 3.93 sms\n",
      "region: Hudson Bay Complex\n",
      "[########################################] | 100% Completed | 3.92 sms\n",
      "region: Beaufort Sea\n",
      "[########################################] | 100% Completed | 3.97 sms\n",
      "region: Canadian High Arctic - North Greenland\n",
      "[########################################] | 100% Completed | 4.36 ss\n",
      "region: Central Arctic\n",
      "[########################################] | 100% Completed | 4.78 ss\n",
      "region: Northern Bering - Chukchi Seas\n",
      "[########################################] | 100% Completed | 3.92 ss\n"
     ]
    }
   ],
   "source": [
    "rm = calc_regionalmean(eo.control,masks,eo.static['areacello'],verbose=True)"
   ]
  },
  {
   "cell_type": "code",
   "execution_count": null,
   "id": "0c736f70-01d1-4433-b246-b8d8bef7190f",
   "metadata": {},
   "outputs": [],
   "source": []
  }
 ],
 "metadata": {
  "kernelspec": {
   "display_name": "climpred [~/.conda/envs/climpred/]",
   "language": "python",
   "name": "conda_climpred"
  },
  "language_info": {
   "codemirror_mode": {
    "name": "ipython",
    "version": 3
   },
   "file_extension": ".py",
   "mimetype": "text/x-python",
   "name": "python",
   "nbconvert_exporter": "python",
   "pygments_lexer": "ipython3",
   "version": "3.11.6"
  }
 },
 "nbformat": 4,
 "nbformat_minor": 5
}

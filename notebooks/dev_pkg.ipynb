{
 "cells": [
  {
   "cell_type": "code",
   "execution_count": 34,
   "id": "c29edef2-2828-4bae-8f05-0f31107c31c9",
   "metadata": {},
   "outputs": [
    {
     "name": "stdout",
     "output_type": "stream",
     "text": [
      "The autoreload extension is already loaded. To reload it, use:\n",
      "  %reload_ext autoreload\n"
     ]
    }
   ],
   "source": [
    "%load_ext autoreload\n",
    "%autoreload 2"
   ]
  },
  {
   "cell_type": "code",
   "execution_count": 35,
   "id": "9c8c9256-5e00-4821-8b70-97f24751de3c",
   "metadata": {},
   "outputs": [],
   "source": [
    "import esm4ppe"
   ]
  },
  {
   "cell_type": "code",
   "execution_count": 38,
   "id": "081e0501-c63a-46d6-8f2d-0e6b78d81bb2",
   "metadata": {},
   "outputs": [
    {
     "name": "stdout",
     "output_type": "stream",
     "text": [
      "Opening static... static opened.\n",
      "Opening ensemble... "
     ]
    },
    {
     "ename": "Exception",
     "evalue": "Not all files (ENSEMBLES) available on disk. Use issue_dmget_ensemble(variable,frequency,...) to migrate from tape.",
     "output_type": "error",
     "traceback": [
      "\u001b[0;31m---------------------------------------------------------------------------\u001b[0m",
      "\u001b[0;31mKeyError\u001b[0m                                  Traceback (most recent call last)",
      "File \u001b[0;32m/nbhome/gam/miniconda3/envs/climpred_clean/lib/python3.10/site-packages/xarray/core/dataset.py:1347\u001b[0m, in \u001b[0;36mDataset._construct_dataarray\u001b[0;34m(self, name)\u001b[0m\n\u001b[1;32m   1346\u001b[0m \u001b[38;5;28;01mtry\u001b[39;00m:\n\u001b[0;32m-> 1347\u001b[0m     variable \u001b[38;5;241m=\u001b[39m \u001b[38;5;28;43mself\u001b[39;49m\u001b[38;5;241;43m.\u001b[39;49m\u001b[43m_variables\u001b[49m\u001b[43m[\u001b[49m\u001b[43mname\u001b[49m\u001b[43m]\u001b[49m\n\u001b[1;32m   1348\u001b[0m \u001b[38;5;28;01mexcept\u001b[39;00m \u001b[38;5;167;01mKeyError\u001b[39;00m:\n",
      "\u001b[0;31mKeyError\u001b[0m: 'fgco2'",
      "\nDuring handling of the above exception, another exception occurred:\n",
      "\u001b[0;31mKeyError\u001b[0m                                  Traceback (most recent call last)",
      "File \u001b[0;32m~/pkgs/esm4ppe/esm4ppe/classes.py:29\u001b[0m, in \u001b[0;36mesm4ppeObj.add_ensemble\u001b[0;34m(self, triggeropen, startyear, startmonth, controlasmember)\u001b[0m\n\u001b[1;32m     28\u001b[0m \u001b[38;5;28;01mtry\u001b[39;00m:\n\u001b[0;32m---> 29\u001b[0m     ensemble \u001b[38;5;241m=\u001b[39m \u001b[43mxr\u001b[49m\u001b[38;5;241;43m.\u001b[39;49m\u001b[43mopen_zarr\u001b[49m\u001b[43m(\u001b[49m\u001b[43mzarrpath\u001b[49m\u001b[43m)\u001b[49m\u001b[43m[\u001b[49m\u001b[38;5;28;43mself\u001b[39;49m\u001b[38;5;241;43m.\u001b[39;49m\u001b[43mvariable\u001b[49m\u001b[43m]\u001b[49m\n\u001b[1;32m     30\u001b[0m     \u001b[38;5;28mprint\u001b[39m(\u001b[38;5;124m\"\u001b[39m\u001b[38;5;124mOpening zarr store.\u001b[39m\u001b[38;5;124m\"\u001b[39m)\n",
      "File \u001b[0;32m/nbhome/gam/miniconda3/envs/climpred_clean/lib/python3.10/site-packages/xarray/core/dataset.py:1438\u001b[0m, in \u001b[0;36mDataset.__getitem__\u001b[0;34m(self, key)\u001b[0m\n\u001b[1;32m   1437\u001b[0m \u001b[38;5;28;01mif\u001b[39;00m utils\u001b[38;5;241m.\u001b[39mhashable(key):\n\u001b[0;32m-> 1438\u001b[0m     \u001b[38;5;28;01mreturn\u001b[39;00m \u001b[38;5;28;43mself\u001b[39;49m\u001b[38;5;241;43m.\u001b[39;49m\u001b[43m_construct_dataarray\u001b[49m\u001b[43m(\u001b[49m\u001b[43mkey\u001b[49m\u001b[43m)\u001b[49m\n\u001b[1;32m   1439\u001b[0m \u001b[38;5;28;01mif\u001b[39;00m utils\u001b[38;5;241m.\u001b[39miterable_of_hashable(key):\n",
      "File \u001b[0;32m/nbhome/gam/miniconda3/envs/climpred_clean/lib/python3.10/site-packages/xarray/core/dataset.py:1349\u001b[0m, in \u001b[0;36mDataset._construct_dataarray\u001b[0;34m(self, name)\u001b[0m\n\u001b[1;32m   1348\u001b[0m \u001b[38;5;28;01mexcept\u001b[39;00m \u001b[38;5;167;01mKeyError\u001b[39;00m:\n\u001b[0;32m-> 1349\u001b[0m     _, name, variable \u001b[38;5;241m=\u001b[39m \u001b[43m_get_virtual_variable\u001b[49m\u001b[43m(\u001b[49m\u001b[38;5;28;43mself\u001b[39;49m\u001b[38;5;241;43m.\u001b[39;49m\u001b[43m_variables\u001b[49m\u001b[43m,\u001b[49m\u001b[43m \u001b[49m\u001b[43mname\u001b[49m\u001b[43m,\u001b[49m\u001b[43m \u001b[49m\u001b[38;5;28;43mself\u001b[39;49m\u001b[38;5;241;43m.\u001b[39;49m\u001b[43mdims\u001b[49m\u001b[43m)\u001b[49m\n\u001b[1;32m   1351\u001b[0m needed_dims \u001b[38;5;241m=\u001b[39m \u001b[38;5;28mset\u001b[39m(variable\u001b[38;5;241m.\u001b[39mdims)\n",
      "File \u001b[0;32m/nbhome/gam/miniconda3/envs/climpred_clean/lib/python3.10/site-packages/xarray/core/dataset.py:185\u001b[0m, in \u001b[0;36m_get_virtual_variable\u001b[0;34m(variables, key, dim_sizes)\u001b[0m\n\u001b[1;32m    184\u001b[0m \u001b[38;5;28;01mif\u001b[39;00m \u001b[38;5;28mlen\u001b[39m(split_key) \u001b[38;5;241m!=\u001b[39m \u001b[38;5;241m2\u001b[39m:\n\u001b[0;32m--> 185\u001b[0m     \u001b[38;5;28;01mraise\u001b[39;00m \u001b[38;5;167;01mKeyError\u001b[39;00m(key)\n\u001b[1;32m    187\u001b[0m ref_name, var_name \u001b[38;5;241m=\u001b[39m split_key\n",
      "\u001b[0;31mKeyError\u001b[0m: 'fgco2'",
      "\nDuring handling of the above exception, another exception occurred:\n",
      "\u001b[0;31mException\u001b[0m                                 Traceback (most recent call last)",
      "Cell \u001b[0;32mIn[38], line 1\u001b[0m\n\u001b[0;32m----> 1\u001b[0m eo \u001b[38;5;241m=\u001b[39m \u001b[43mesm4ppe\u001b[49m\u001b[38;5;241;43m.\u001b[39;49m\u001b[43mesm4ppeObj\u001b[49m\u001b[43m(\u001b[49m\u001b[38;5;124;43m'\u001b[39;49m\u001b[38;5;124;43mfgco2\u001b[39;49m\u001b[38;5;124;43m'\u001b[39;49m\u001b[43m,\u001b[49m\u001b[38;5;124;43m'\u001b[39;49m\u001b[38;5;124;43mmonthly\u001b[39;49m\u001b[38;5;124;43m'\u001b[39;49m\u001b[43m)\u001b[49m\u001b[38;5;241;43m.\u001b[39;49m\u001b[43madd_ensemble\u001b[49m\u001b[43m(\u001b[49m\u001b[43mtriggeropen\u001b[49m\u001b[38;5;241;43m=\u001b[39;49m\u001b[38;5;28;43;01mTrue\u001b[39;49;00m\u001b[43m)\u001b[49m\n\u001b[1;32m      2\u001b[0m eo\n",
      "File \u001b[0;32m~/pkgs/esm4ppe/esm4ppe/classes.py:35\u001b[0m, in \u001b[0;36mesm4ppeObj.add_ensemble\u001b[0;34m(self, triggeropen, startyear, startmonth, controlasmember)\u001b[0m\n\u001b[1;32m     33\u001b[0m \u001b[38;5;28mprint\u001b[39m(\u001b[38;5;124m\"\u001b[39m\u001b[38;5;124mOpening ensemble...\u001b[39m\u001b[38;5;124m\"\u001b[39m,end\u001b[38;5;241m=\u001b[39m\u001b[38;5;124m\"\u001b[39m\u001b[38;5;124m \u001b[39m\u001b[38;5;124m\"\u001b[39m)\n\u001b[1;32m     34\u001b[0m start \u001b[38;5;241m=\u001b[39m time\u001b[38;5;241m.\u001b[39mtime()\n\u001b[0;32m---> 35\u001b[0m ensemble \u001b[38;5;241m=\u001b[39m \u001b[43mopen_ensemble\u001b[49m\u001b[43m(\u001b[49m\u001b[38;5;28;43mself\u001b[39;49m\u001b[38;5;241;43m.\u001b[39;49m\u001b[43mvariable\u001b[49m\u001b[43m,\u001b[49m\u001b[38;5;28;43mself\u001b[39;49m\u001b[38;5;241;43m.\u001b[39;49m\u001b[43mfrequency\u001b[49m\u001b[43m,\u001b[49m\u001b[38;5;28;43mself\u001b[39;49m\u001b[38;5;241;43m.\u001b[39;49m\u001b[43mconstraint\u001b[49m\u001b[43m,\u001b[49m\n\u001b[1;32m     36\u001b[0m \u001b[43m                         \u001b[49m\u001b[43mcontrolasmember\u001b[49m\u001b[38;5;241;43m=\u001b[39;49m\u001b[43mcontrolasmember\u001b[49m\u001b[43m,\u001b[49m\n\u001b[1;32m     37\u001b[0m \u001b[43m                         \u001b[49m\u001b[43mstartyear\u001b[49m\u001b[38;5;241;43m=\u001b[39;49m\u001b[43mstartyear\u001b[49m\u001b[43m,\u001b[49m\u001b[43mstartmonth\u001b[49m\u001b[38;5;241;43m=\u001b[39;49m\u001b[43mstartmonth\u001b[49m\u001b[43m)\u001b[49m\n\u001b[1;32m     38\u001b[0m end \u001b[38;5;241m=\u001b[39m time\u001b[38;5;241m.\u001b[39mtime()\n\u001b[1;32m     39\u001b[0m \u001b[38;5;28mprint\u001b[39m(\u001b[38;5;124m\"\u001b[39m\u001b[38;5;124m...Ensemble opened. Elapsed time: \u001b[39m\u001b[38;5;124m\"\u001b[39m\u001b[38;5;241m+\u001b[39m\u001b[38;5;28mstr\u001b[39m(\u001b[38;5;28mround\u001b[39m(end\u001b[38;5;241m-\u001b[39mstart))\u001b[38;5;241m+\u001b[39m\u001b[38;5;124m\"\u001b[39m\u001b[38;5;124m seconds.\u001b[39m\u001b[38;5;124m\"\u001b[39m)\n",
      "File \u001b[0;32m~/pkgs/esm4ppe/esm4ppe/processing.py:96\u001b[0m, in \u001b[0;36mopen_ensemble\u001b[0;34m(variable, frequency, constraint, startyear, startmonth, controlasmember)\u001b[0m\n\u001b[1;32m     94\u001b[0m ondisk \u001b[38;5;241m=\u001b[39m gu\u001b[38;5;241m.\u001b[39mcore\u001b[38;5;241m.\u001b[39mquery_ondisk(path)\n\u001b[1;32m     95\u001b[0m \u001b[38;5;28;01mif\u001b[39;00m \u001b[38;5;28mlist\u001b[39m(ondisk\u001b[38;5;241m.\u001b[39mvalues())\u001b[38;5;241m.\u001b[39mcount(\u001b[38;5;28;01mFalse\u001b[39;00m)\u001b[38;5;241m>\u001b[39m\u001b[38;5;241m0\u001b[39m:\n\u001b[0;32m---> 96\u001b[0m     \u001b[38;5;28;01mraise\u001b[39;00m \u001b[38;5;167;01mException\u001b[39;00m(\u001b[38;5;124m\"\u001b[39m\u001b[38;5;124mNot all files (ENSEMBLES) available on disk. Use issue_dmget_ensemble(variable,frequency,...) to migrate from tape.\u001b[39m\u001b[38;5;124m\"\u001b[39m)\n\u001b[1;32m     97\u001b[0m ds \u001b[38;5;241m=\u001b[39m xr\u001b[38;5;241m.\u001b[39mopen_mfdataset(path,preprocess\u001b[38;5;241m=\u001b[39mpreprocess_climpred)\n\u001b[1;32m     98\u001b[0m \u001b[38;5;66;03m# Add control as member\u001b[39;00m\n",
      "\u001b[0;31mException\u001b[0m: Not all files (ENSEMBLES) available on disk. Use issue_dmget_ensemble(variable,frequency,...) to migrate from tape."
     ]
    }
   ],
   "source": [
    "eo = esm4ppe.esm4ppeObj('fgco2','monthly').add_ensemble(triggeropen=True)\n",
    "eo"
   ]
  },
  {
   "cell_type": "code",
   "execution_count": 39,
   "id": "37eb109f-b9ae-4eed-8ee0-ab67a5451e65",
   "metadata": {},
   "outputs": [
    {
     "name": "stdout",
     "output_type": "stream",
     "text": [
      "Opening static... static opened.\n",
      "Issuing dmget for both ensemble and control\n"
     ]
    }
   ],
   "source": [
    "esm4ppe.esm4ppeObj('fgco2','monthly').issue_dmget()"
   ]
  },
  {
   "cell_type": "code",
   "execution_count": null,
   "id": "b2a3cb61-2912-494e-8afc-317d284a8f34",
   "metadata": {},
   "outputs": [],
   "source": []
  }
 ],
 "metadata": {
  "kernelspec": {
   "display_name": "Python [conda env:climpred_clean]",
   "language": "python",
   "name": "conda-env-climpred_clean-py"
  },
  "language_info": {
   "codemirror_mode": {
    "name": "ipython",
    "version": 3
   },
   "file_extension": ".py",
   "mimetype": "text/x-python",
   "name": "python",
   "nbconvert_exporter": "python",
   "pygments_lexer": "ipython3",
   "version": "3.10.9"
  }
 },
 "nbformat": 4,
 "nbformat_minor": 5
}

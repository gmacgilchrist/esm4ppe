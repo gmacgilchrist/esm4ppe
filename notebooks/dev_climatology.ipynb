{
 "cells": [
  {
   "cell_type": "code",
   "execution_count": 49,
   "id": "ca3bad9b-5d1d-42e0-add1-e635749a4848",
   "metadata": {},
   "outputs": [
    {
     "name": "stdout",
     "output_type": "stream",
     "text": [
      "The autoreload extension is already loaded. To reload it, use:\n",
      "  %reload_ext autoreload\n"
     ]
    }
   ],
   "source": [
    "%load_ext autoreload\n",
    "%autoreload 2"
   ]
  },
  {
   "cell_type": "code",
   "execution_count": 50,
   "id": "7a0c4e01-46f1-4294-9388-5a919b86f63d",
   "metadata": {},
   "outputs": [],
   "source": [
    "import esm4ppe"
   ]
  },
  {
   "cell_type": "markdown",
   "id": "9271d7b9-e0fc-4933-a865-73a143dbeda0",
   "metadata": {},
   "source": [
    "# Climatology"
   ]
  },
  {
   "cell_type": "code",
   "execution_count": 51,
   "id": "b63f799d-5383-4ed8-ae7c-608b293c3558",
   "metadata": {},
   "outputs": [
    {
     "name": "stdout",
     "output_type": "stream",
     "text": [
      "Opening static... static opened.\n",
      "Control present in zarr store... opening... control opened.\n"
     ]
    }
   ],
   "source": [
    "es = esm4ppe.esm4ppeObj('dfeos','monthly').add_control()"
   ]
  },
  {
   "cell_type": "code",
   "execution_count": 52,
   "id": "71ee05e4-5c06-4ed6-8b8d-2c914118b37b",
   "metadata": {},
   "outputs": [
    {
     "name": "stdout",
     "output_type": "stream",
     "text": [
      "Opening climatology... climatology opened.\n"
     ]
    }
   ],
   "source": [
    "es = es.climatology(saveclimatology=True)"
   ]
  },
  {
   "cell_type": "markdown",
   "id": "29efc59c-1f6c-44d4-b041-964aa0b6abae",
   "metadata": {},
   "source": [
    "# Climatology of regional means"
   ]
  },
  {
   "cell_type": "code",
   "execution_count": 56,
   "id": "961af699-353f-4091-a021-3244d757a76d",
   "metadata": {},
   "outputs": [
    {
     "name": "stdout",
     "output_type": "stream",
     "text": [
      "Opening static... static opened.\n",
      "Control present in zarr store... opening... control opened.\n",
      "Calculating regional means for control... Baltic Sea Sea of Okhotsk North Sea Gulf of Alaska Labrador - Newfoundland Celtic-Biscay Shelf Sea of Japan Oyashio Current Scotian Shelf California Current Black Sea Northeast U.S. Continental Shelf Mediterranean Sea Iberian Coastal Kuroshio Current Yellow Sea Canary Current East China Sea Southeast U.S. Continental Shelf Gulf of California Gulf of Mexico Arabian Sea Red Sea Insular Pacific-Hawaiian Caribbean Sea South China Sea Bay of Bengal Pacific Central-American Coastal Sulu-Celebes Sea Gulf of Thailand North Brazil Shelf Guinea Current Somali Coastal Current Indonesian Sea East Brazil Shelf Humboldt Current Benguela Current North Australian Shelf Northeast Australian Shelf Agulhas Current Northwest Australian Shelf East Central Australian Shelf South Brazil Shelf New Zealand Shelf Patagonian Shelf Southeast Australian Shelf Antarctica South West Australian Shelf West Central Australian Shelf Faroe Plateau Iceland Shelf and Sea Greenland Sea Norwegian Sea Barents Sea Kara Sea Laptev Sea East Siberian Sea West Bering Sea Aleutian Islands East Bering Sea Canadian Eastern Arctic - West Greenland Hudson Bay Complex Beaufort Sea Canadian High Arctic - North Greenland Central Arctic Northern Bering - Chukchi Seas ...regional means for control calculated. Elapsed time: 245 seconds.\n"
     ]
    }
   ],
   "source": [
    "es = esm4ppe.esm4ppeObj('dfeos','monthly').add_control().regionalmean('LME',verbose=True)"
   ]
  },
  {
   "cell_type": "code",
   "execution_count": 57,
   "id": "d0d38063-f9b1-4585-8d52-5627861ad223",
   "metadata": {},
   "outputs": [
    {
     "name": "stdout",
     "output_type": "stream",
     "text": [
      "Calculating climatology... ... climatology calculated. Saving to netcdf... ...climatology saved.\n"
     ]
    }
   ],
   "source": [
    "es = es.climatology(saveclimatology=True)"
   ]
  },
  {
   "cell_type": "code",
   "execution_count": null,
   "id": "166fafca-c744-4811-b4e5-8e3c5319eb19",
   "metadata": {},
   "outputs": [],
   "source": []
  }
 ],
 "metadata": {
  "kernelspec": {
   "display_name": "Python [conda env:climpred_clean]",
   "language": "python",
   "name": "conda-env-climpred_clean-py"
  },
  "language_info": {
   "codemirror_mode": {
    "name": "ipython",
    "version": 3
   },
   "file_extension": ".py",
   "mimetype": "text/x-python",
   "name": "python",
   "nbconvert_exporter": "python",
   "pygments_lexer": "ipython3",
   "version": "3.10.9"
  }
 },
 "nbformat": 4,
 "nbformat_minor": 5
}
